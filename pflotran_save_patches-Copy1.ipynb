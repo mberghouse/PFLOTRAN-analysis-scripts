{
 "cells": [
  {
   "cell_type": "code",
   "execution_count": 2,
   "id": "5dd0118c",
   "metadata": {},
   "outputs": [
    {
     "data": {
      "text/plain": [
       "array(['0001nfvjdisk', '0004hnjiuoefgnb', '0008njcikdsb', '0010kpdofwa',\n",
       "       '0100spakeopa'], dtype='<U15')"
      ]
     },
     "execution_count": 2,
     "metadata": {},
     "output_type": "execute_result"
    }
   ],
   "source": [
    "import numpy as np\n",
    "np.sort(['0004hnjiuoefgnb', '0008njcikdsb', '0001nfvjdisk', '0100spakeopa', '0010kpdofwa'])"
   ]
  },
  {
   "cell_type": "code",
   "execution_count": 3,
   "id": "614512bd",
   "metadata": {},
   "outputs": [
    {
     "name": "stdout",
     "output_type": "stream",
     "text": [
      "['pt_files_bio/gaining_17_22_10xscale.pt'\n",
      " 'pt_files_bio/gaining_22_16_10xscale.pt'\n",
      " 'pt_files_bio/gaining_25_15_10xscale.pt'\n",
      " 'pt_files_bio/gaining_27_7_10xscale.pt'\n",
      " 'pt_files_bio/gaining_30_15_10xscale.pt'\n",
      " 'pt_files_bio/gaining_33_24_10xscale.pt'\n",
      " 'pt_files_bio/gaining_34_6_10xscale.pt'\n",
      " 'pt_files_bio/gaining_36_11_10xscale.pt'\n",
      " 'pt_files_bio/gaining_38_16_10xscale.pt'\n",
      " 'pt_files_bio/gaining_40_17_10xscale.pt'\n",
      " 'pt_files_bio/gaining_41_12_10xscale.pt'\n",
      " 'pt_files_bio/gaining_42_11_10xscale.pt'\n",
      " 'pt_files_bio/gaining_46_17_10xscale.pt'\n",
      " 'pt_files_bio/gaining_49_10_10xscale.pt'\n",
      " 'pt_files_bio/gaining_49_24_10xscale.pt'\n",
      " 'pt_files_bio/gaining_51_10_10xscale.pt'\n",
      " 'pt_files_bio/hanford_diff_lose_14_10_10xscale.pt'\n",
      " 'pt_files_bio/hanford_diff_lose_18_10_10xscale.pt'\n",
      " 'pt_files_bio/hanford_diff_lose_24_17_10xscale.pt'\n",
      " 'pt_files_bio/hanford_diff_lose_31_7_10xscale.pt'\n",
      " 'pt_files_bio/hanford_diff_lose_34_15_10xscale.pt'\n",
      " 'pt_files_bio/hanford_diff_lose_41_12_10xscale.pt'\n",
      " 'pt_files_bio/hanford_gain_14_10_10xscale.pt'\n",
      " 'pt_files_bio/hanford_gain_24_17_10xscale.pt'\n",
      " 'pt_files_bio/hanford_gain_27_14_10xscale.pt'\n",
      " 'pt_files_bio/hanford_gain_31_7_10xscale.pt'\n",
      " 'pt_files_bio/hanford_gain_35_23_10xscale.pt'\n",
      " 'pt_files_bio/hanford_gain_37_9_10xscale.pt'\n",
      " 'pt_files_bio/hanford_gain_45_19_10xscale.pt'\n",
      " 'pt_files_bio/hanford_lose_14_10_10xscale.pt'\n",
      " 'pt_files_bio/hanford_lose_18_19_10xscale.pt'\n",
      " 'pt_files_bio/hanford_lose_24_17_10xscale.pt'\n",
      " 'pt_files_bio/hanford_lose_27_14_10xscale.pt'\n",
      " 'pt_files_bio/hanford_lose_33_24_10xscale.pt'\n",
      " 'pt_files_bio/hanford_lose_35_23_10xscale.pt'\n",
      " 'pt_files_bio/hanford_lose_36_11_10xscale.pt'\n",
      " 'pt_files_bio/hanford_lose_40_17_10xscale.pt'\n",
      " 'pt_files_bio/hanford_lose_42_11_10xscale.pt'\n",
      " 'pt_files_bio/hanford_lose_50_25_10xscale.pt'\n",
      " 'pt_files_bio/high_gaining_14_10_10xscale.pt'\n",
      " 'pt_files_bio/high_gaining_18_19_10xscale.pt'\n",
      " 'pt_files_bio/high_gaining_24_17_10xscale.pt'\n",
      " 'pt_files_bio/high_gaining_27_14_10xscale.pt'\n",
      " 'pt_files_bio/high_gaining_29_9_10xscale.pt'\n",
      " 'pt_files_bio/high_gaining_33_15_10xscale.pt'\n",
      " 'pt_files_bio/high_gaining_34_21_10xscale.pt'\n",
      " 'pt_files_bio/high_gaining_35_7_10xscale.pt'\n",
      " 'pt_files_bio/high_gaining_37_9_10xscale.pt'\n",
      " 'pt_files_bio/high_gaining_39_13_10xscale.pt'\n",
      " 'pt_files_bio/high_gaining_40_8_10xscale.pt'\n",
      " 'pt_files_bio/high_gaining_41_20_10xscale.pt'\n",
      " 'pt_files_bio/high_gaining_45_9_10xscale.pt'\n",
      " 'pt_files_bio/high_gaining_46_10_10xscale.pt'\n",
      " 'pt_files_bio/high_gaining_47_9_10xscale.pt'\n",
      " 'pt_files_bio/high_gaining_50_10_10xscale.pt'\n",
      " 'pt_files_bio/high_gaining_52_8_10xscale.pt'\n",
      " 'pt_files_bio/high_gaining_right_34_6_10xscale.pt'\n",
      " 'pt_files_bio/high_gaining_right_35_23_10xscale.pt'\n",
      " 'pt_files_bio/high_gaining_right_35_7_10xscale.pt'\n",
      " 'pt_files_bio/high_gaining_right_38_16_10xscale.pt'\n",
      " 'pt_files_bio/high_gaining_right_39_10_10xscale.pt'\n",
      " 'pt_files_bio/high_gaining_right_40_8_10xscale.pt'\n",
      " 'pt_files_bio/high_gaining_right_41_12_10xscale.pt'\n",
      " 'pt_files_bio/high_gaining_right_41_17_10xscale.pt'\n",
      " 'pt_files_bio/high_gaining_right_46_10_10xscale.pt'\n",
      " 'pt_files_bio/high_gaining_right_49_19_10xscale.pt'\n",
      " 'pt_files_bio/high_gaining_right_49_24_10xscale.pt'\n",
      " 'pt_files_bio/high_hanford_gain_14_10_10xscale.pt'\n",
      " 'pt_files_bio/high_hanford_gain_18_10_10xscale.pt'\n",
      " 'pt_files_bio/high_hanford_gain_24_17_10xscale.pt'\n",
      " 'pt_files_bio/high_hanford_gain_27_14_10xscale.pt'\n",
      " 'pt_files_bio/high_hanford_gain_31_7_10xscale.pt'\n",
      " 'pt_files_bio/high_hanford_gain_35_23_10xscale.pt'\n",
      " 'pt_files_bio/high_hanford_gain_37_9_10xscale.pt'\n",
      " 'pt_files_bio/high_hanford_gain_38_16_10xscale.pt'\n",
      " 'pt_files_bio/high_hanford_gain_45_19_10xscale.pt'\n",
      " 'pt_files_bio/high_hanford_gain_50_25_10xscale.pt'\n",
      " 'pt_files_bio/high_losing_14_10_10xscale.pt'\n",
      " 'pt_files_bio/high_losing_18_10_10xscale.pt'\n",
      " 'pt_files_bio/high_losing_22_16_10xscale.pt'\n",
      " 'pt_files_bio/high_losing_22_21_10xscale.pt'\n",
      " 'pt_files_bio/high_losing_26_16_10xscale.pt'\n",
      " 'pt_files_bio/high_losing_27_8_10xscale.pt'\n",
      " 'pt_files_bio/high_losing_30_15_10xscale.pt'\n",
      " 'pt_files_bio/high_losing_31_7_10xscale.pt'\n",
      " 'pt_files_bio/high_losing_34_15_10xscale.pt'\n",
      " 'pt_files_bio/high_losing_34_21_10xscale.pt'\n",
      " 'pt_files_bio/high_losing_35_23_10xscale.pt'\n",
      " 'pt_files_bio/high_losing_35_7_10xscale.pt'\n",
      " 'pt_files_bio/high_losing_36_18_10xscale.pt'\n",
      " 'pt_files_bio/high_losing_37_9_10xscale.pt'\n",
      " 'pt_files_bio/high_losing_39_10_10xscale.pt'\n",
      " 'pt_files_bio/high_losing_39_13_10xscale.pt'\n",
      " 'pt_files_bio/high_losing_40_20_10xscale.pt'\n",
      " 'pt_files_bio/high_losing_41_12_10xscale.pt'\n",
      " 'pt_files_bio/high_losing_41_17_10xscale.pt'\n",
      " 'pt_files_bio/high_losing_45_19_10xscale.pt'\n",
      " 'pt_files_bio/high_losing_47_9_10xscale.pt'\n",
      " 'pt_files_bio/high_losing_49_19_10xscale.pt'\n",
      " 'pt_files_bio/high_losing_49_24_10xscale.pt'\n",
      " 'pt_files_bio/high_losing_50_25_10xscale.pt'\n",
      " 'pt_files_bio/high_losing_57_8_10xscale.pt']\n"
     ]
    }
   ],
   "source": [
    "import numpy as np\n",
    "import pandas as pd\n",
    "import os\n",
    "\n",
    "import h5py\n",
    "#import cv2\n",
    "import torch\n",
    "import torch.nn as nn\n",
    "import torch.optim as optim\n",
    "from torch.utils.data import DataLoader\n",
    "import torch.nn.functional as F\n",
    "from torch.utils.data import Dataset, DataLoader\n",
    "\n",
    "\n",
    "\n",
    "\n",
    "base_dir = 'pt_files_bio/'\n",
    "f_dir = os.listdir(base_dir)\n",
    "h5_files = []\n",
    "h5_files_train = []\n",
    "h5_files_train_1x = []\n",
    "# Iterate over all files in the directory\n",
    "for filename in f_dir:\n",
    "    if (filename.endswith(\".pt\")) & (((\"2x\" in filename))):\n",
    "        h5_files_train.append(base_dir+filename)\n",
    "\n",
    "    if (filename.endswith(\".pt\")) & (((\"10x\" in filename))):\n",
    "#         if ((\"10_5\" in filename) | (\"20_20\" in filename)):\n",
    "        h5_files.append(base_dir+filename)\n",
    "\n",
    "from torch.utils.data import Dataset\n",
    "\n",
    "h5_files = np.sort(h5_files)\n",
    "h5_files_train=np.sort(h5_files_train)\n",
    "print(h5_files)\n",
    "#for i in h5_files:\n",
    "\n"
   ]
  },
  {
   "cell_type": "code",
   "execution_count": 15,
   "id": "e731c7e2",
   "metadata": {},
   "outputs": [],
   "source": [
    "#for i in h5_files:\n",
    "x_patches=[]\n",
    "\n",
    "for k in range(len(h5_files)):\n",
    "    x = torch.load(h5_files[k])[:,:,:,0]\n",
    "    for i in range(x.shape[1]//10):\n",
    "        for j in range(x.shape[2]//200):\n",
    "            x_patch = x[:,0+i*10:10+i*10,0+j*200:200+j*200]\n",
    "#             plt.imshow(x_patch[113,:,:])\n",
    "#             plt.show()\n",
    "            x_patches.append([x_patch, h5_files[k]])\n"
   ]
  },
  {
   "cell_type": "code",
   "execution_count": 34,
   "id": "5a070913",
   "metadata": {},
   "outputs": [
    {
     "ename": "TypeError",
     "evalue": "list indices must be integers or slices, not tuple",
     "output_type": "error",
     "traceback": [
      "\u001b[1;31m---------------------------------------------------------------------------\u001b[0m",
      "\u001b[1;31mTypeError\u001b[0m                                 Traceback (most recent call last)",
      "Cell \u001b[1;32mIn[34], line 2\u001b[0m\n\u001b[0;32m      1\u001b[0m \u001b[38;5;28;01mimport\u001b[39;00m \u001b[38;5;21;01mmatplotlib\u001b[39;00m\u001b[38;5;21;01m.\u001b[39;00m\u001b[38;5;21;01mpyplot\u001b[39;00m \u001b[38;5;28;01mas\u001b[39;00m \u001b[38;5;21;01mplt\u001b[39;00m\n\u001b[1;32m----> 2\u001b[0m plt\u001b[38;5;241m.\u001b[39mimshow(x_patches[\u001b[38;5;241m99\u001b[39m][\u001b[38;5;241m113\u001b[39m,:,:])\n\u001b[0;32m      3\u001b[0m \u001b[38;5;28mlen\u001b[39m(x_patches)\n",
      "\u001b[1;31mTypeError\u001b[0m: list indices must be integers or slices, not tuple"
     ]
    }
   ],
   "source": [
    "import matplotlib.pyplot as plt\n",
    "plt.imshow(x_patches[99][113,:,:])\n",
    "len(x_patches)"
   ]
  },
  {
   "cell_type": "code",
   "execution_count": 35,
   "id": "42b781e5",
   "metadata": {},
   "outputs": [
    {
     "data": {
      "text/plain": [
       "[tensor([[[-1.0536, -1.0536, -1.0536,  ..., -1.0536, -1.0536, -1.0536],\n",
       "          [-1.0536, -1.0536, -1.0536,  ..., -1.0536, -1.0536, -1.0536],\n",
       "          [-1.0536, -1.0536, -1.0536,  ..., -1.0536, -1.0536, -1.0536],\n",
       "          ...,\n",
       "          [-1.0536, -1.0536, -1.0536,  ..., -1.0536, -1.0536, -1.0536],\n",
       "          [-1.0536, -1.0536, -1.0536,  ..., -1.0536, -1.0536, -1.0536],\n",
       "          [-1.0536, -1.0536, -1.0536,  ..., -1.0536, -1.0536, -1.0536]],\n",
       " \n",
       "         [[-1.0536, -1.0536, -1.0536,  ..., -1.0536, -1.0536, -1.0536],\n",
       "          [-1.0536, -1.0536, -1.0536,  ..., -1.0536, -1.0536, -1.0536],\n",
       "          [-1.0536, -1.0536, -1.0536,  ..., -1.0536, -1.0536, -1.0536],\n",
       "          ...,\n",
       "          [-1.0536, -1.0536, -1.0536,  ..., -1.0536, -1.0536, -1.0536],\n",
       "          [-1.0536, -1.0536, -1.0536,  ..., -1.0536, -1.0536, -1.0536],\n",
       "          [-1.0536, -1.0536, -1.0536,  ..., -1.0536, -1.0536, -1.0536]],\n",
       " \n",
       "         [[-1.0536, -1.0536, -1.0536,  ..., -1.0536, -1.0536, -1.0536],\n",
       "          [-1.0536, -1.0536, -1.0536,  ..., -1.0536, -1.0536, -1.0536],\n",
       "          [-1.0536, -1.0536, -1.0536,  ..., -1.0536, -1.0536, -1.0536],\n",
       "          ...,\n",
       "          [-1.0536, -1.0536, -1.0536,  ..., -1.0536, -1.0536, -1.0536],\n",
       "          [-1.0536, -1.0536, -1.0536,  ..., -1.0536, -1.0536, -1.0536],\n",
       "          [-1.0536, -1.0536, -1.0536,  ..., -1.0536, -1.0536, -1.0536]],\n",
       " \n",
       "         ...,\n",
       " \n",
       "         [[-0.6926, -0.7525, -0.7531,  ..., -0.6426, -0.6392, -0.6411],\n",
       "          [-0.9879, -1.0522, -1.0525,  ..., -1.0526, -1.0525, -1.0524],\n",
       "          [-0.9881, -1.0533, -1.0536,  ..., -1.0536, -1.0536, -1.0536],\n",
       "          ...,\n",
       "          [-0.9822, -1.0535, -1.0536,  ..., -1.0536, -1.0536, -1.0536],\n",
       "          [-0.9811, -1.0535, -1.0536,  ..., -1.0536, -1.0536, -1.0536],\n",
       "          [-0.9658, -1.0535, -1.0536,  ..., -1.0536, -1.0536, -1.0536]],\n",
       " \n",
       "         [[-0.6893, -0.7498, -0.7505,  ..., -0.6401, -0.6365, -0.6384],\n",
       "          [-0.9873, -1.0522, -1.0525,  ..., -1.0526, -1.0525, -1.0524],\n",
       "          [-0.9875, -1.0533, -1.0536,  ..., -1.0536, -1.0536, -1.0536],\n",
       "          ...,\n",
       "          [-0.9816, -1.0535, -1.0536,  ..., -1.0536, -1.0536, -1.0536],\n",
       "          [-0.9805, -1.0535, -1.0536,  ..., -1.0536, -1.0536, -1.0536],\n",
       "          [-0.9650, -1.0535, -1.0536,  ..., -1.0536, -1.0536, -1.0536]],\n",
       " \n",
       "         [[-0.6877, -0.7484, -0.7492,  ..., -0.6388, -0.6352, -0.6370],\n",
       "          [-0.9870, -1.0522, -1.0525,  ..., -1.0526, -1.0525, -1.0524],\n",
       "          [-0.9872, -1.0533, -1.0536,  ..., -1.0536, -1.0536, -1.0536],\n",
       "          ...,\n",
       "          [-0.9813, -1.0535, -1.0536,  ..., -1.0536, -1.0536, -1.0536],\n",
       "          [-0.9802, -1.0535, -1.0536,  ..., -1.0536, -1.0536, -1.0536],\n",
       "          [-0.9647, -1.0535, -1.0536,  ..., -1.0536, -1.0536, -1.0536]]],\n",
       "        dtype=torch.float64),\n",
       " 'pt_files_bio/gaining_17_22_10xscale.pt']"
      ]
     },
     "execution_count": 35,
     "metadata": {},
     "output_type": "execute_result"
    }
   ],
   "source": [
    "x_patches[0]"
   ]
  },
  {
   "cell_type": "code",
   "execution_count": null,
   "id": "d1c32858",
   "metadata": {},
   "outputs": [],
   "source": [
    "count=0\n",
    "for i in x_patches:\n",
    "    torch.save(i[0], 'patches_bio'+i[1][12:-3]+str(count%100)+'.pt')\n",
    "    count=count+1"
   ]
  },
  {
   "cell_type": "code",
   "execution_count": 28,
   "id": "80ab3a91",
   "metadata": {},
   "outputs": [
    {
     "data": {
      "text/plain": [
       "'patches_bio/gaining_17_22_10xscale1.pt'"
      ]
     },
     "execution_count": 28,
     "metadata": {},
     "output_type": "execute_result"
    }
   ],
   "source": [
    "'patches_bio'+h5_files[0][12:-3]+str(1)+'.pt'"
   ]
  },
  {
   "cell_type": "code",
   "execution_count": 26,
   "id": "7ac92412",
   "metadata": {},
   "outputs": [
    {
     "data": {
      "text/plain": [
       "'pt_files_bio/gaining_17_22_10xscale.pt'"
      ]
     },
     "execution_count": 26,
     "metadata": {},
     "output_type": "execute_result"
    }
   ],
   "source": [
    "h5_files[0]"
   ]
  },
  {
   "cell_type": "code",
   "execution_count": 30,
   "id": "d61708f8",
   "metadata": {},
   "outputs": [
    {
     "ename": "TypeError",
     "evalue": "unsupported operand type(s) for %: 'list' and 'int'",
     "output_type": "error",
     "traceback": [
      "\u001b[1;31m---------------------------------------------------------------------------\u001b[0m",
      "\u001b[1;31mTypeError\u001b[0m                                 Traceback (most recent call last)",
      "Cell \u001b[1;32mIn[30], line 1\u001b[0m\n\u001b[1;32m----> 1\u001b[0m \u001b[38;5;124m'\u001b[39m\u001b[38;5;124mpatches_bio\u001b[39m\u001b[38;5;124m'\u001b[39m\u001b[38;5;241m+\u001b[39mh5_files[\u001b[38;5;241m0\u001b[39m][\u001b[38;5;241m12\u001b[39m:\u001b[38;5;241m-\u001b[39m\u001b[38;5;241m3\u001b[39m]\u001b[38;5;241m+\u001b[39m\u001b[38;5;28mstr\u001b[39m(i\u001b[38;5;241m%\u001b[39m\u001b[38;5;241m100\u001b[39m)\u001b[38;5;241m+\u001b[39m\u001b[38;5;124m'\u001b[39m\u001b[38;5;124m.pt\u001b[39m\u001b[38;5;124m'\u001b[39m\n",
      "\u001b[1;31mTypeError\u001b[0m: unsupported operand type(s) for %: 'list' and 'int'"
     ]
    }
   ],
   "source": [
    "'patches_bio'+h5_files[0][12:-3]+str(i%100)+'.pt'"
   ]
  },
  {
   "cell_type": "code",
   "execution_count": 31,
   "id": "93791a03",
   "metadata": {},
   "outputs": [
    {
     "ename": "TypeError",
     "evalue": "unsupported operand type(s) for %: 'list' and 'int'",
     "output_type": "error",
     "traceback": [
      "\u001b[1;31m---------------------------------------------------------------------------\u001b[0m",
      "\u001b[1;31mTypeError\u001b[0m                                 Traceback (most recent call last)",
      "Cell \u001b[1;32mIn[31], line 1\u001b[0m\n\u001b[1;32m----> 1\u001b[0m i\u001b[38;5;241m%\u001b[39m\u001b[38;5;241m100\u001b[39m\n",
      "\u001b[1;31mTypeError\u001b[0m: unsupported operand type(s) for %: 'list' and 'int'"
     ]
    }
   ],
   "source": [
    "i%100"
   ]
  },
  {
   "cell_type": "code",
   "execution_count": null,
   "id": "b4e958ea",
   "metadata": {},
   "outputs": [],
   "source": []
  }
 ],
 "metadata": {
  "kernelspec": {
   "display_name": "Python 3 (ipykernel)",
   "language": "python",
   "name": "python3"
  },
  "language_info": {
   "codemirror_mode": {
    "name": "ipython",
    "version": 3
   },
   "file_extension": ".py",
   "mimetype": "text/x-python",
   "name": "python",
   "nbconvert_exporter": "python",
   "pygments_lexer": "ipython3",
   "version": "3.11.5"
  }
 },
 "nbformat": 4,
 "nbformat_minor": 5
}
